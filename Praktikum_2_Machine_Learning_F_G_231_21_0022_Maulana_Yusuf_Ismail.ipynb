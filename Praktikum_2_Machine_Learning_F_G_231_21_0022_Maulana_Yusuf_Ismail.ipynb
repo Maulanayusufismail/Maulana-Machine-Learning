{
  "nbformat": 4,
  "nbformat_minor": 0,
  "metadata": {
    "colab": {
      "provenance": [],
      "authorship_tag": "ABX9TyOMrvkxBQdSlr6cc7zlAxme",
      "include_colab_link": true
    },
    "kernelspec": {
      "name": "python3",
      "display_name": "Python 3"
    },
    "language_info": {
      "name": "python"
    }
  },
  "cells": [
    {
      "cell_type": "markdown",
      "metadata": {
        "id": "view-in-github",
        "colab_type": "text"
      },
      "source": [
        "<a href=\"https://colab.research.google.com/github/Maulanayusufismail/machine/blob/main/Praktikum_2_Machine_Learning_F_G_231_21_0022_Maulana_Yusuf_Ismail.ipynb\" target=\"_parent\"><img src=\"https://colab.research.google.com/assets/colab-badge.svg\" alt=\"Open In Colab\"/></a>"
      ]
    },
    {
      "cell_type": "markdown",
      "source": [
        "**Mengimport beberapa pustaka dan mengunggah file dalam lingkungan Google Colab**"
      ],
      "metadata": {
        "id": "R9gp6zUfawhu"
      }
    },
    {
      "cell_type": "code",
      "execution_count": null,
      "metadata": {
        "id": "kjp1Ur4KwBeg"
      },
      "outputs": [],
      "source": [
        "import pandas as pd\n",
        "import numpy as np\n",
        "from google.colab import files\n",
        "uploaded = files.upload()"
      ]
    },
    {
      "cell_type": "markdown",
      "source": [
        "**Coding Python ini digunakan untuk membaca file CSV dengan menggunakan pustaka Pandas dan menampilkan lima baris pertama dari data tersebut**"
      ],
      "metadata": {
        "id": "MTcMnRzLa697"
      }
    },
    {
      "cell_type": "code",
      "source": [
        "df = pd.read_csv('train.csv')\n",
        "df.head()"
      ],
      "metadata": {
        "id": "gW-_6vQuwchU"
      },
      "execution_count": null,
      "outputs": []
    },
    {
      "cell_type": "markdown",
      "source": [
        "**Kode df.duplicated() digunakan dalam Pandas untuk mengidentifikasi baris-baris yang merupakan duplikat dalam DataFrame 'df'**"
      ],
      "metadata": {
        "id": "-3mkZxzHbfO7"
      }
    },
    {
      "cell_type": "code",
      "source": [
        "df.duplicated()"
      ],
      "metadata": {
        "id": "pk-2x181w5t4"
      },
      "execution_count": null,
      "outputs": []
    },
    {
      "cell_type": "markdown",
      "source": [
        "**Kode df.info() digunakan dalam pandas untuk mengetahui informasi dataframe nya /df**"
      ],
      "metadata": {
        "id": "RnCWjhknbzZz"
      }
    },
    {
      "cell_type": "code",
      "source": [
        "df.info()"
      ],
      "metadata": {
        "id": "xRQZk1RUxoAQ"
      },
      "execution_count": null,
      "outputs": []
    },
    {
      "cell_type": "markdown",
      "source": [
        "**Kode df.describe() digunakan dalam Pandas untuk menghasilkan ringkasan statistik dari DataFrame 'df'**"
      ],
      "metadata": {
        "id": "IKGcxS2ZcAHG"
      }
    },
    {
      "cell_type": "code",
      "source": [
        "df.describe()"
      ],
      "metadata": {
        "id": "WI7TCDNcxrsH"
      },
      "execution_count": null,
      "outputs": []
    },
    {
      "cell_type": "markdown",
      "source": [
        "**Kode Python ini digunakan untuk memisahkan kolom-kolom dalam DataFrame menjadi dua kategori berdasarkan tipe datanya, yaitu kolom-kolom kategoris (categorical) dan kolom-kolom numerik**"
      ],
      "metadata": {
        "id": "2fSokU89cSIT"
      }
    },
    {
      "cell_type": "code",
      "source": [
        "cat_col = [col for col in df.columns if df [col].dtype == 'object']\n",
        "print ('Categorical columns :',cat_col)\n",
        "num_col = [col for col in df.columns if df [col].dtype != 'object']\n",
        "print ('Numerical columns :',num_col)"
      ],
      "metadata": {
        "id": "8ClSuJkWzumz"
      },
      "execution_count": null,
      "outputs": []
    },
    {
      "cell_type": "markdown",
      "source": [
        "**Kode df[cat_col].nunique() digunakan untuk menghitung jumlah nilai unik dalam setiap kolom kategoris (categorical) dalam DataFrame 'df'**"
      ],
      "metadata": {
        "id": "CMLzV9fGcoIl"
      }
    },
    {
      "cell_type": "code",
      "source": [
        "df[cat_col].nunique()"
      ],
      "metadata": {
        "id": "s9K9sBxdxt6X"
      },
      "execution_count": null,
      "outputs": []
    },
    {
      "cell_type": "markdown",
      "source": [
        "**Kode df['Ticket'].unique()[:50] digunakan untuk mengambil 50 nilai unik pertama dari kolom 'Ticket' dalam DataFrame 'df' dan mencetaknya. Ini akan menampilkan daftar 50 nilai unik pertama dalam kolom 'Ticket'**"
      ],
      "metadata": {
        "id": "eMUOhMpwc0SR"
      }
    },
    {
      "cell_type": "code",
      "source": [
        "df['Ticket'].unique()[:50]"
      ],
      "metadata": {
        "id": "z07r2m_3x0VX"
      },
      "execution_count": null,
      "outputs": []
    },
    {
      "cell_type": "markdown",
      "source": [
        "**Kode ini digunakan untuk menghasilkan DataFrame baru 'df1' yang merupakan salinan dari 'df' tanpa dua kolom tertentu ('Name' dan 'Ticket'), dan kemudian menampilkan jumlah baris dan kolom dalam 'df1' menggunakan df1.shape**"
      ],
      "metadata": {
        "id": "M7pULwo7c9Ss"
      }
    },
    {
      "cell_type": "code",
      "source": [
        "df1 = df.drop(columns=['Name','Ticket'])\n",
        "df1.shape"
      ],
      "metadata": {
        "id": "OJSb4547x93h"
      },
      "execution_count": null,
      "outputs": []
    },
    {
      "cell_type": "markdown",
      "source": [
        "**Kode ini digunakan untuk menghitung persentase nilai-nilai yang hilang (missing values) dalam setiap kolom DataFrame 'df1' dan membulatkannya ke bilangan bulat**"
      ],
      "metadata": {
        "id": "QTV85iBtdKNx"
      }
    },
    {
      "cell_type": "code",
      "source": [
        "round((df1.isnull().sum()/df1.shape[0])*100.2)"
      ],
      "metadata": {
        "id": "GagbUzhy15xA"
      },
      "execution_count": null,
      "outputs": []
    },
    {
      "cell_type": "markdown",
      "source": [
        "**Kode ini melakukan serangkaian operasi pada DataFrame 'df1' dan menghasilkan DataFrame baru yang disebut 'df2 dan menghasilkan DataFrame 'df2' yang telah mengalami dua perubahan: penghapusan kolom 'Cabin' dan penghapusan baris dengan nilai NaN di kolom 'Embarked'**"
      ],
      "metadata": {
        "id": "0ZQRyIWxdSAX"
      }
    },
    {
      "cell_type": "code",
      "source": [
        "df2 = df1.drop(columns='Cabin')\n",
        "df2.dropna(subset=['Embarked'], axis=0, inplace=True)\n",
        "df2.shape"
      ],
      "metadata": {
        "id": "7ereInnv3BMq"
      },
      "execution_count": null,
      "outputs": []
    },
    {
      "cell_type": "markdown",
      "source": [
        "**Kode ini untuk menghasilkan DataFrame 'df3' dengan nilai-nilai yang sebelumnya hilang diisi dengan rata-rata umur, dan kemudian memeriksa apakah masih ada nilai yang hilang dalam 'df3', yang seharusnya sudah tidak ada lagi.**"
      ],
      "metadata": {
        "id": "k1aEGG6jdi3h"
      }
    },
    {
      "cell_type": "code",
      "source": [
        " df3 = df2.fillna(df2.Age.mean())\n",
        " df3.isnull().sum()"
      ],
      "metadata": {
        "id": "Cqo7V-aR_xAI"
      },
      "execution_count": null,
      "outputs": []
    },
    {
      "cell_type": "markdown",
      "source": [
        "**Kode ini menggunakan Matplotlib untuk membuat sebuah diagram box plot dari kolom 'Age' dalam DataFrame 'df3' dan hasilnya adalah diagram box plot yang menggambarkan sebaran data umur ('Age') dalam DataFrame 'df3', dengan kotak yang menunjukkan kuartil dan nilai-nilai ekstrem yang mungkin ada dalam data tersebut**"
      ],
      "metadata": {
        "id": "WKQD9MEed2jA"
      }
    },
    {
      "cell_type": "code",
      "source": [
        "import matplotlib.pyplot as plt\n",
        "plt.boxplot (df3['Age'], vert=False)\n",
        "plt.ylabel('Variable')\n",
        "plt.xlabel('Age')\n",
        "plt.title('Box Plot')\n",
        "plt.show()"
      ],
      "metadata": {
        "id": "kvXLzZ4NFrGk"
      },
      "execution_count": null,
      "outputs": []
    },
    {
      "cell_type": "markdown",
      "source": [
        "**Kode ini melakukan beberapa operasi statistik pada kolom 'Age' dalam DataFrame 'df3' dan menghasilkan DataFrame baru 'df4'.**"
      ],
      "metadata": {
        "id": "FilgTz8qeIob"
      }
    },
    {
      "cell_type": "code",
      "source": [
        "mean = df3['Age'].mean()\n",
        "std = df3['Age'].std()\n",
        "\n",
        "lower_bound = mean - std*2\n",
        "upper_bound = mean + std*2\n",
        "\n",
        "print('Lower Bound :',lower_bound)\n",
        "print('Upper Bound:',upper_bound)\n",
        "\n",
        "df4= df3[(df3['Age'] >= lower_bound) & (df3['Age'] <= upper_bound)]"
      ],
      "metadata": {
        "id": "Yg0nCSNhEMJZ"
      },
      "execution_count": null,
      "outputs": []
    },
    {
      "cell_type": "markdown",
      "source": [
        "**Kode ini digunakan untuk membagi data menjadi dua bagian: variabel independen (X) dan variabel dependen (Y)**"
      ],
      "metadata": {
        "id": "BsDj7a6_eUJl"
      }
    },
    {
      "cell_type": "code",
      "source": [
        "X = df3[['Pclass','Sex','Age','SibSp','Parch','Fare','Embarked']]\n",
        "Y = df3['Survived']"
      ],
      "metadata": {
        "id": "0MltywSdHw5A"
      },
      "execution_count": null,
      "outputs": []
    },
    {
      "cell_type": "markdown",
      "source": [
        "**Kode ini menggunakan modul MinMaxScaler dari scikit-learn (sklearn) untuk melakukan penskalaan Min-Max pada fitur-fitur numerik (numerical features) dalam DataFrame X dan dengan melakukan penskalaan Min-Max, kita dapat mengubah rentang nilai dalam kolom-kolom numerik sehingga mereka berada dalam rentang antara 0 dan 1**"
      ],
      "metadata": {
        "id": "etcRQMwTebH5"
      }
    },
    {
      "cell_type": "code",
      "source": [
        "from sklearn.preprocessing import MinMaxScaler\n",
        "\n",
        "scaler = MinMaxScaler(feature_range=(0, 1))\n",
        "\n",
        "num_col_ = [col for col in X.columns if X [col].dtype != 'object' ]\n",
        "X1 = X\n",
        "\n",
        "X1[num_col_] = scaler.fit_transform(x1[num_col_])\n",
        "X1.head()"
      ],
      "metadata": {
        "id": "3waedcO-IpoS"
      },
      "execution_count": null,
      "outputs": []
    },
    {
      "cell_type": "markdown",
      "source": [
        "Sama pada kodingan pertama kode ini mengimpor beberapa pustaka dan melakukan beberapa tugas dalam lingkungan Google Colab"
      ],
      "metadata": {
        "id": "ncaxHwyBeqvm"
      }
    },
    {
      "cell_type": "code",
      "source": [
        "import pandas as pd\n",
        "import matplotlib.pyplot as plt\n",
        "import numpy as np\n",
        "from sklearn.linear_model import LogisticRegression\n",
        "from sklearn.preprocessing import StandardScaler\n",
        "from sklearn.metrics import confusion_matrix, classification_report\n",
        "\n",
        "from google.colab import files\n",
        "uploaded = files.upload()"
      ],
      "metadata": {
        "id": "98_RjEjRKFDQ"
      },
      "execution_count": null,
      "outputs": []
    },
    {
      "cell_type": "markdown",
      "source": [
        "**Kode ini digunakan untuk membaca file CSV yang disebut 'creditcard.csv' dan kemudian menampilkan informasi tentang data yang telah dibaca**"
      ],
      "metadata": {
        "id": "KB_SMif8e7Xp"
      }
    },
    {
      "cell_type": "code",
      "source": [
        "data = pd.read_csv('creditcard.csv')\n",
        "\n",
        "print(data.info())"
      ],
      "metadata": {
        "id": "FDj0hC7SL05t"
      },
      "execution_count": null,
      "outputs": []
    },
    {
      "cell_type": "markdown",
      "source": [
        "**Kode ini melakukan beberapa operasi pada DataFrame 'data', termasuk penskalaan fitur, penghapusan kolom, dan menghitung jumlah nilai dalam kolom 'Class'**"
      ],
      "metadata": {
        "id": "aXOE5Q0ZfEoE"
      }
    },
    {
      "cell_type": "code",
      "source": [
        "data['normAmount'] = StandardScaler.fit_transform(np.array(data['Amount'].values.reshape(-1, 1)))\n",
        "\n",
        "data = data.drop(['Time', 'Amount'], axis=1)\n",
        "\n",
        "class_counts = data['Class'].value_counts()"
      ],
      "metadata": {
        "id": "RpBES3_sMCZA"
      },
      "execution_count": null,
      "outputs": []
    },
    {
      "cell_type": "markdown",
      "source": [
        "**Kode ini menggunakan modul train_test_split dari scikit-learn (sklearn) untuk membagi data menjadi dua set: set data pelatihan (train) dan set data pengujian (test)**"
      ],
      "metadata": {
        "id": "x62QORFLfNi2"
      }
    },
    {
      "cell_type": "code",
      "source": [
        "from sklearn.model_selection import train_test_split\n",
        "\n",
        "X_train, X_test, y_train, y_test = train_test_split(X, y, test_size = 0.3, random_state =0)\n",
        "\n",
        "print(\"Number transactions X_train dataset: \", X_train.shape)\n",
        "print(\"Number transactions y_train dataset: \", y_train.shape)\n",
        "print(\"Number transactions X_test dataset: \", X_test.shape)\n",
        "print(\"Number transactions y_test dataset: \", y_test.shape)"
      ],
      "metadata": {
        "id": "DC_fCr2PPWsi"
      },
      "execution_count": null,
      "outputs": []
    },
    {
      "cell_type": "markdown",
      "source": [
        "**Kode untuk membuat, melatih, dan menguji model regresi logistik (Logistic Regression) dengan data pelatihan dan pengujian. Selanjutnya, kode ini mencetak laporan klasifikasi (classification report) untuk mengevaluasi kinerja modelnya**"
      ],
      "metadata": {
        "id": "_qqJ7GeNfZNC"
      }
    },
    {
      "cell_type": "code",
      "source": [
        "lr = LogisticRegression()\n",
        "\n",
        "lr.fit(X_train, y_train.ravel())\n",
        "\n",
        "predictions = lr.predict(X_test)\n",
        "\n",
        "print(classification_report(y_test, predictions))"
      ],
      "metadata": {
        "id": "V1C_KuvWRJTv"
      },
      "execution_count": null,
      "outputs": []
    },
    {
      "cell_type": "markdown",
      "source": [
        "**Proses oversampling dengan SMOTE bertujuan untuk menghasilkan sampel sintetis untuk kelas minoritas sehingga seimbang dengan kelas mayoritas, membantu meningkatkan kinerja model pada data yang tidak seimbang. Hasilnya adalah data pelatihan yang telah diperluas dengan sampel-sampel sintetis untuk kelas minoritas.**"
      ],
      "metadata": {
        "id": "UkwOcK4Lft0k"
      }
    },
    {
      "cell_type": "code",
      "source": [
        "print(\"Before OverSampling, counts of label '1': {} \".format(sum(y_train == 1)))\n",
        "print(\"Before OverSampling, counts of label '0': {} \\n \".format(sum(y_train == 0)))\n",
        "\n",
        "from imblearn.over_sampling import SMOTE\n",
        "sm = SMOTE(random_state = 2)\n",
        "X_train_res, y_train_res = sm.fit_sample(X_train, y_train.ravel())\n",
        "\n",
        "print('After OverSampling, the shape of train_X : {}'.format(X_train_res.shape))\n",
        "print('After OverSampling, the shape of train_y : {} \\n'.format(y_train_res.shape))\n",
        "\n",
        "print(\"After OverSampling, counts of label '1': {} \".format(sum(y_train == 1)))\n",
        "print(\"After OverSampling, counts of label '0': {} \".format(sum(y_train == 0)))"
      ],
      "metadata": {
        "id": "ZwMj3IoCRotL"
      },
      "execution_count": null,
      "outputs": []
    },
    {
      "cell_type": "markdown",
      "source": [
        "**Kode untuk membuat, melatih, dan menguji model regresi logistik (Logistic Regression) dengan data pelatihan dan pengujian. Selanjutnya, kode ini mencetak laporan klasifikasi (classification report) untuk mengevaluasi kinerja modelnya**"
      ],
      "metadata": {
        "id": "T3jHex8If37-"
      }
    },
    {
      "cell_type": "code",
      "source": [
        "lr = LogisticRegression()\n",
        "\n",
        "lr.fit(X_train, y_train.ravel())\n",
        "\n",
        "predictions = lr.predict(X_test)\n",
        "\n",
        "print(classification_report(y_test,predictions))"
      ],
      "metadata": {
        "id": "0vrhlNyWzCey"
      },
      "execution_count": null,
      "outputs": []
    },
    {
      "cell_type": "markdown",
      "source": [
        "**Proses oversampling dengan SMOTE bertujuan untuk menghasilkan sampel sintetis untuk kelas minoritas sehingga seimbang dengan kelas mayoritas, membantu meningkatkan kinerja model pada data yang tidak seimbang. Hasilnya adalah data pelatihan yang telah diperluas dengan sampel-sampel sintetis untuk kelas minoritas.**"
      ],
      "metadata": {
        "id": "dA66NKxAf-fb"
      }
    },
    {
      "cell_type": "code",
      "source": [
        "print(\"Before OverSampling, counts of label '1': {} \".format(sum(y_train == 1)))\n",
        "print(\"Before OverSampling, counts of label '0': {} \\n \".format(sum(y_train == 0)))\n",
        "\n",
        "from imblearn.over_sampling import SMOTE\n",
        "sm = SMOTE(random_state = 2)\n",
        "X_train_res, y_train_res = sm.fit_sample(X_train, y_train.ravel())\n",
        "\n",
        "print('After OverSampling, the shape of train_X : {}'.format(X_train_res.shape))\n",
        "print('After OverSampling, the shape of train_y : {} \\n'.format(y_train_res.shape))\n",
        "\n",
        "print(\"After OverSampling, counts of label '1': {} \".format(sum(y_train == 1)))\n",
        "print(\"After OverSampling, counts of label '0': {} \".format(sum(y_train == 0)))"
      ],
      "metadata": {
        "id": "zXJeBsw3zwue"
      },
      "execution_count": null,
      "outputs": []
    },
    {
      "cell_type": "markdown",
      "source": [
        "**Kode untuk membuat, melatih, dan menguji model regresi logistik (Logistic Regression) dengan data pelatihan dan pengujian. Selanjutnya, kode ini mencetak laporan klasifikasi (classification report) untuk mengevaluasi kinerja modelnya**"
      ],
      "metadata": {
        "id": "UGlcQmWJgInP"
      }
    },
    {
      "cell_type": "code",
      "source": [
        "lr1 = LogisticRegression()\n",
        "lr1.fit(X_train_res, y_train_res.ravel())\n",
        "predictions = lr1.predict(X_test)\n",
        "\n",
        "print(classification_report(y_test, predictions))"
      ],
      "metadata": {
        "id": "eK74SPNjzzlB"
      },
      "execution_count": null,
      "outputs": []
    },
    {
      "cell_type": "markdown",
      "source": [
        "**Kode ini menggambarkan proses undersampling menggunakan metode NearMiss untuk menangani ketidakseimbangan kelas pada data pelatihan**"
      ],
      "metadata": {
        "id": "P1pDQe0pgKhx"
      }
    },
    {
      "cell_type": "code",
      "source": [
        "print(\"Before Undersampling, counts of label '1': {} \".format(sum(y_train == 1)))\n",
        "print(\"Before Undersampling, counts of label '0': {} \\n \".format(sum(y_train == 0)))\n",
        "\n",
        "from imblearn.under_sampling import NearMiss\n",
        "nr = NearMiss()\n",
        "\n",
        "X_train_res, y_train_res = sm.fit_sample(X_train, y_train.ravel())\n",
        "\n",
        "print('After Undersampling, the shape of train_X : {}'.format(X_train_res.shape))\n",
        "print('After Undersampling, the shape of train_y : {} \\n'.format(y_train_res.shape))\n",
        "\n",
        "print(\"After Undersampling, counts of label '1': {} \".format(sum(y_train == 1)))\n",
        "print(\"After Undersampling, counts of label '0': {} \".format(sum(y_train == 0)))"
      ],
      "metadata": {
        "id": "TEjKiZ6L0KiD"
      },
      "execution_count": null,
      "outputs": []
    },
    {
      "cell_type": "markdown",
      "source": [
        "**Kode ini membangun model regresi logistik (Logistic Regression) dengan data yang telah mengalami undersampling menggunakan NearMiss, dan kemudian menguji model tersebut menggunakan data pengujian**"
      ],
      "metadata": {
        "id": "JBSTvOXhgT8k"
      }
    },
    {
      "cell_type": "code",
      "source": [
        "lr2 = LogisticRegression()\n",
        "lr2.fit(X_train_miss, y_train_miss.ravel())\n",
        "predictions = lr2.predict(X_test)\n",
        "\n",
        "print(classification_report(y_test, predictions))"
      ],
      "metadata": {
        "id": "9z3fdYGv0kCb"
      },
      "execution_count": null,
      "outputs": []
    }
  ]
}